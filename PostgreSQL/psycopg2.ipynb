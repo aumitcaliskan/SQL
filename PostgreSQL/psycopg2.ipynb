{
 "cells": [
  {
   "cell_type": "code",
   "execution_count": 1,
   "id": "8676851d",
   "metadata": {},
   "outputs": [],
   "source": [
    "import psycopg2 as pg2"
   ]
  },
  {
   "cell_type": "code",
   "execution_count": 21,
   "id": "a39840b6",
   "metadata": {},
   "outputs": [],
   "source": [
    "conn = pg2.connect(database = 'dvdrental', user = 'postgres', password = 'Qq123456')\n",
    "\n",
    "# Create a connection with PostgreSQL"
   ]
  },
  {
   "cell_type": "code",
   "execution_count": 22,
   "id": "2bb47cb3",
   "metadata": {},
   "outputs": [],
   "source": [
    "cursor = conn.cursor()\n",
    "\n",
    "# Establish connection and start cursor to be ready to query"
   ]
  },
  {
   "cell_type": "code",
   "execution_count": 12,
   "id": "554d0a21",
   "metadata": {},
   "outputs": [],
   "source": [
    "cursor.execute('SELECT * FROM payment')"
   ]
  },
  {
   "cell_type": "code",
   "execution_count": 13,
   "id": "c74d52d4",
   "metadata": {},
   "outputs": [
    {
     "data": {
      "text/plain": [
       "(17503,\n",
       " 341,\n",
       " 2,\n",
       " 1520,\n",
       " Decimal('7.99'),\n",
       " datetime.datetime(2007, 2, 15, 22, 25, 46, 996577))"
      ]
     },
     "execution_count": 13,
     "metadata": {},
     "output_type": "execute_result"
    }
   ],
   "source": [
    "cursor.fetchone()\n",
    "\n",
    "#first row of data"
   ]
  },
  {
   "cell_type": "code",
   "execution_count": 16,
   "id": "a5ac2e3e",
   "metadata": {
    "scrolled": true
   },
   "outputs": [],
   "source": [
    "data = cursor.fetchmany(10)\n",
    "\n",
    "# first 10 row of data"
   ]
  },
  {
   "cell_type": "code",
   "execution_count": 15,
   "id": "5c127a13",
   "metadata": {},
   "outputs": [],
   "source": [
    "# cursor.fetchall()\n",
    "# all data"
   ]
  },
  {
   "cell_type": "code",
   "execution_count": 17,
   "id": "2d680d0f",
   "metadata": {},
   "outputs": [
    {
     "data": {
      "text/plain": [
       "(17514,\n",
       " 343,\n",
       " 2,\n",
       " 1879,\n",
       " Decimal('0.99'),\n",
       " datetime.datetime(2007, 2, 17, 1, 26, 0, 996577))"
      ]
     },
     "execution_count": 17,
     "metadata": {},
     "output_type": "execute_result"
    }
   ],
   "source": [
    "data[0]"
   ]
  },
  {
   "cell_type": "code",
   "execution_count": 19,
   "id": "4e3cbd1d",
   "metadata": {},
   "outputs": [
    {
     "data": {
      "text/plain": [
       "1879"
      ]
     },
     "execution_count": 19,
     "metadata": {},
     "output_type": "execute_result"
    }
   ],
   "source": [
    "data[0][3]"
   ]
  },
  {
   "cell_type": "code",
   "execution_count": 20,
   "id": "90f87be3",
   "metadata": {},
   "outputs": [],
   "source": [
    "conn.close()"
   ]
  },
  {
   "cell_type": "code",
   "execution_count": null,
   "id": "ad8c6aca",
   "metadata": {},
   "outputs": [],
   "source": [
    "query1 = '''\n",
    "        CREATE TABLE new_table (\n",
    "            userid integer\n",
    "            , tmstmp timestamp\n",
    "            , type varchar(10)\n",
    "        );\n",
    "        '''"
   ]
  },
  {
   "cell_type": "code",
   "execution_count": null,
   "id": "f0279bc7",
   "metadata": {},
   "outputs": [],
   "source": [
    "cursor.execute(query1)"
   ]
  },
  {
   "cell_type": "code",
   "execution_count": null,
   "id": "a1187c8b",
   "metadata": {},
   "outputs": [],
   "source": [
    "# commit the changes to the database\n",
    "cur.commit()"
   ]
  },
  {
   "cell_type": "code",
   "execution_count": null,
   "id": "49961008",
   "metadata": {},
   "outputs": [],
   "source": [
    "# Don't forget to close the connection!\n",
    "# killing the kernel or shutting down juptyer will also close it\n",
    "conn.close()"
   ]
  }
 ],
 "metadata": {
  "kernelspec": {
   "display_name": "Python 3 (ipykernel)",
   "language": "python",
   "name": "python3"
  },
  "language_info": {
   "codemirror_mode": {
    "name": "ipython",
    "version": 3
   },
   "file_extension": ".py",
   "mimetype": "text/x-python",
   "name": "python",
   "nbconvert_exporter": "python",
   "pygments_lexer": "ipython3",
   "version": "3.9.5"
  }
 },
 "nbformat": 4,
 "nbformat_minor": 5
}
